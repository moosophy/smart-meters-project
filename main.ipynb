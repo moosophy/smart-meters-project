{
 "cells": [
  {
   "metadata": {
    "ExecuteTime": {
     "end_time": "2025-06-07T08:48:14.450224Z",
     "start_time": "2025-06-07T08:48:13.770986Z"
    }
   },
   "cell_type": "code",
   "source": [
    "import glob\n",
    "import pandas as pd"
   ],
   "id": "381d009a1b0dfac5",
   "outputs": [],
   "execution_count": 2
  },
  {
   "metadata": {},
   "cell_type": "code",
   "source": [
    "!curl -Lo data.zip https://www.kaggle.com/api/v1/datasets/download/jeanmidev/smart-meters-in-london\n",
    "!mkdir data\n",
    "!unzip data.zip -d data\n",
    "!rm data.zip"
   ],
   "id": "fbc121e30a2defb3",
   "outputs": [],
   "execution_count": null
  },
  {
   "metadata": {
    "ExecuteTime": {
     "end_time": "2025-06-07T09:47:21.327807Z",
     "start_time": "2025-06-07T09:47:21.268900Z"
    }
   },
   "cell_type": "code",
   "source": [
    "households = pd.read_csv(\"data/informations_households.csv\")\n",
    "acorn = pd.read_csv(\n",
    "    filepath_or_buffer=\"data/acorn_details.csv\",\n",
    "    encoding=\"windows-1252\",\n",
    ")\n",
    "holidays = pd.read_csv(\n",
    "    filepath_or_buffer=\"data/uk_bank_holidays.csv\",\n",
    "    parse_dates=[\"Bank holidays\"],\n",
    ")\n",
    "daily_weather = pd.read_csv(\n",
    "    filepath_or_buffer=\"data/weather_daily_darksky.csv\",\n",
    "    parse_dates=[\n",
    "        \"temperatureMaxTime\",\n",
    "        \"temperatureMinTime\",\n",
    "        \"apparentTemperatureMinTime\",\n",
    "        \"apparentTemperatureHighTime\",\n",
    "        \"time\",\n",
    "        \"sunsetTime\",\n",
    "        \"sunriseTime\",\n",
    "        \"temperatureHighTime\",\n",
    "        \"uvIndexTime\",\n",
    "        \"temperatureLowTime\",\n",
    "        \"apparentTemperatureMaxTime\",\n",
    "        \"apparentTemperatureLowTime\",\n",
    "    ],\n",
    ")\n",
    "hourly_weather = pd.read_csv(\n",
    "    filepath_or_buffer=\"data/weather_hourly_darksky.csv\",\n",
    "    parse_dates=[\"time\"],\n",
    ")"
   ],
   "id": "919f6aec20ea96e0",
   "outputs": [],
   "execution_count": 64
  },
  {
   "metadata": {
    "ExecuteTime": {
     "end_time": "2025-06-07T09:58:50.500605Z",
     "start_time": "2025-06-07T09:47:22.878626Z"
    }
   },
   "cell_type": "code",
   "source": [
    "daily_consumption = pd.concat(\n",
    "    pd.read_csv(filepath_or_buffer=path, parse_dates=[\"day\"])\n",
    "    for path in glob.glob(\"data/daily_dataset/daily_dataset/block_*.csv\")\n",
    ")\n",
    "half_hourly_consumption_long = pd.concat(\n",
    "    pd.read_csv(\n",
    "        filepath_or_buffer=path,\n",
    "        converters={\n",
    "            \"energy(kWh/hh)\": lambda x: pd.to_numeric(arg=x.strip(), errors=\"coerce\"),\n",
    "        },\n",
    "        parse_dates=[\"tstp\"],\n",
    "    )\n",
    "    for path in glob.glob(\"data/halfhourly_dataset/halfhourly_dataset/block_*.csv\")\n",
    ")\n",
    "half_hourly_consumption_wide = pd.concat(\n",
    "    pd.read_csv(filepath_or_buffer=path, parse_dates=[\"day\"])\n",
    "    for path in glob.glob(\"data/hhblock_dataset/hhblock_dataset/block_*.csv\")\n",
    ")"
   ],
   "id": "53dff7ce62d578b5",
   "outputs": [],
   "execution_count": 65
  }
 ],
 "metadata": {
  "kernelspec": {
   "display_name": "Python 3",
   "language": "python",
   "name": "python3"
  },
  "language_info": {
   "codemirror_mode": {
    "name": "ipython",
    "version": 2
   },
   "file_extension": ".py",
   "mimetype": "text/x-python",
   "name": "python",
   "nbconvert_exporter": "python",
   "pygments_lexer": "ipython2",
   "version": "2.7.6"
  }
 },
 "nbformat": 4,
 "nbformat_minor": 5
}
